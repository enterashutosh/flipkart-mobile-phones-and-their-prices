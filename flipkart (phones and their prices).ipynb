{
 "cells": [
  {
   "cell_type": "code",
   "execution_count": 4,
   "id": "80966803",
   "metadata": {
    "scrolled": true
   },
   "outputs": [
    {
     "name": "stdout",
     "output_type": "stream",
     "text": [
      "Requirement already satisfied: selenium in c:\\users\\ashut\\anaconda3\\lib\\site-packages (4.16.0)\n",
      "Requirement already satisfied: urllib3[socks]<3,>=1.26 in c:\\users\\ashut\\anaconda3\\lib\\site-packages (from selenium) (1.26.16)\n",
      "Requirement already satisfied: trio~=0.17 in c:\\users\\ashut\\anaconda3\\lib\\site-packages (from selenium) (0.23.2)\n",
      "Requirement already satisfied: trio-websocket~=0.9 in c:\\users\\ashut\\anaconda3\\lib\\site-packages (from selenium) (0.11.1)\n",
      "Requirement already satisfied: certifi>=2021.10.8 in c:\\users\\ashut\\anaconda3\\lib\\site-packages (from selenium) (2023.7.22)\n",
      "Requirement already satisfied: attrs>=20.1.0 in c:\\users\\ashut\\anaconda3\\lib\\site-packages (from trio~=0.17->selenium) (22.1.0)\n",
      "Requirement already satisfied: sortedcontainers in c:\\users\\ashut\\anaconda3\\lib\\site-packages (from trio~=0.17->selenium) (2.4.0)\n",
      "Requirement already satisfied: idna in c:\\users\\ashut\\anaconda3\\lib\\site-packages (from trio~=0.17->selenium) (3.4)\n",
      "Requirement already satisfied: outcome in c:\\users\\ashut\\anaconda3\\lib\\site-packages (from trio~=0.17->selenium) (1.3.0.post0)\n",
      "Requirement already satisfied: sniffio>=1.3.0 in c:\\users\\ashut\\anaconda3\\lib\\site-packages (from trio~=0.17->selenium) (1.3.0)\n",
      "Requirement already satisfied: cffi>=1.14 in c:\\users\\ashut\\anaconda3\\lib\\site-packages (from trio~=0.17->selenium) (1.15.1)\n",
      "Requirement already satisfied: wsproto>=0.14 in c:\\users\\ashut\\anaconda3\\lib\\site-packages (from trio-websocket~=0.9->selenium) (1.2.0)\n",
      "Requirement already satisfied: PySocks!=1.5.7,<2.0,>=1.5.6 in c:\\users\\ashut\\anaconda3\\lib\\site-packages (from urllib3[socks]<3,>=1.26->selenium) (1.7.1)\n",
      "Requirement already satisfied: pycparser in c:\\users\\ashut\\anaconda3\\lib\\site-packages (from cffi>=1.14->trio~=0.17->selenium) (2.21)\n",
      "Requirement already satisfied: h11<1,>=0.9.0 in c:\\users\\ashut\\anaconda3\\lib\\site-packages (from wsproto>=0.14->trio-websocket~=0.9->selenium) (0.14.0)\n",
      "Note: you may need to restart the kernel to use updated packages.\n"
     ]
    }
   ],
   "source": [
    "pip install selenium"
   ]
  },
  {
   "cell_type": "code",
   "execution_count": 5,
   "id": "174cd9b7",
   "metadata": {},
   "outputs": [],
   "source": [
    "from selenium import webdriver\n",
    "from selenium.webdriver.chrome.options import Options\n",
    "from selenium.webdriver.common.by import By"
   ]
  },
  {
   "cell_type": "code",
   "execution_count": 6,
   "id": "4884bcdd",
   "metadata": {},
   "outputs": [],
   "source": [
    "options = Options()\n",
    "\n",
    "# following is for google colab only, can work in jupyter without\n",
    "\n",
    "#options.add_argument('--headless=new')\n",
    "#options.add_argument('--no-sandbox')"
   ]
  },
  {
   "cell_type": "code",
   "execution_count": 7,
   "id": "c7865717",
   "metadata": {},
   "outputs": [],
   "source": [
    "import numpy as np\n",
    "import pandas as pd\n",
    "import time"
   ]
  },
  {
   "cell_type": "code",
   "execution_count": 9,
   "id": "69297edd",
   "metadata": {
    "scrolled": true
   },
   "outputs": [],
   "source": [
    "driver = webdriver.Chrome(options = options)\n",
    "driver.get('https://www.flipkart.com/')"
   ]
  },
  {
   "cell_type": "code",
   "execution_count": 11,
   "id": "6ebe8559",
   "metadata": {},
   "outputs": [],
   "source": [
    "driver.maximize_window()"
   ]
  },
  {
   "cell_type": "code",
   "execution_count": 21,
   "id": "2a7f3b2f",
   "metadata": {},
   "outputs": [],
   "source": [
    "search_box = driver.find_element(By.NAME, 'q')\n",
    "search_box.send_keys('mobile phones')\n",
    "search_box.submit()\n",
    "\n",
    "driver.implicitly_wait(3)"
   ]
  },
  {
   "cell_type": "code",
   "execution_count": 34,
   "id": "e8b76d3b",
   "metadata": {
    "scrolled": true
   },
   "outputs": [
    {
     "name": "stdout",
     "output_type": "stream",
     "text": [
      "Nokia 105 Single SIM, Keypad Mobile Phone with Wireless FM Radio ₹1,279\n",
      "Nothing Phone (2) (Dark Grey, 512 GB) ₹38,999\n",
      "SAMSUNG Guru Music 2 ₹1,220\n",
      "SAMSUNG Guru Music 2 ₹1,450\n",
      "SAMSUNG Guru Music 2 ₹1,265\n",
      "SAMSUNG GURU MUSIC 2 ₹1,295\n",
      "Nokia 105 Single SIM, Keypad Mobile Phone with Wireless FM Radio ₹1,249\n",
      "SAMSUNG Guru Music 2 SM-B315E ₹1,240\n",
      "SAMSUNG Guru 1200 ₹1,189\n",
      "SAMSUNG Guru Music 2 ₹1,269\n",
      "Nokia 105 Single SIM, Keypad Mobile Phone with Wireless FM Radio ₹1,199\n",
      "Nothing Phone (2) (White, 256 GB) ₹36,999\n",
      "Nothing Phone (2) (Dark Grey, 256 GB) ₹36,999\n",
      "Nothing Phone (2) (White, 128 GB) ₹39,999\n",
      "Kechaoda A26 ₹999\n",
      "SAMSUNG Guru FM Plus SM-B110E/D ₹1,499\n",
      "Micromax J22 ₹1,099\n",
      "Micromax J22 ₹1,199\n",
      "Kechaoda K112 ₹1,565\n",
      "Kechaoda K112 ₹1,575\n",
      "Nokia 105 ss ₹1,276\n",
      "Kechaoda K115 ₹1,090\n",
      "Nokia 105 Single SIM, Keypad Mobile Phone with Wireless FM Radio ₹1,199\n",
      "Nothing Phone (2) (White, 512 GB) ₹38,999\n"
     ]
    }
   ],
   "source": [
    "data_dict = {}\n",
    "\n",
    "product_names = driver.find_elements(By.CLASS_NAME, '_4rR01T')\n",
    "product_prices = driver.find_elements(By.CLASS_NAME, '_30jeq3._1_WHN1')\n",
    "\n",
    "for index, item in enumerate(product_names, 0):\n",
    "    data_dict.update({item : product_prices[index]})\n",
    "\n",
    "for x, y in data_dict.items():\n",
    "    print(x.text, y.text)"
   ]
  },
  {
   "cell_type": "code",
   "execution_count": 38,
   "id": "38cb356c",
   "metadata": {},
   "outputs": [
    {
     "data": {
      "text/plain": [
       "array([<selenium.webdriver.remote.webelement.WebElement (session=\"70e2637581618234f2cbd3b034ea4a75\", element=\"1A2F601A2FCF56EF5DAB540852B9386C_element_4690\")>,\n",
       "       <selenium.webdriver.remote.webelement.WebElement (session=\"70e2637581618234f2cbd3b034ea4a75\", element=\"1A2F601A2FCF56EF5DAB540852B9386C_element_4726\")>],\n",
       "      dtype=object)"
      ]
     },
     "execution_count": 38,
     "metadata": {},
     "output_type": "execute_result"
    }
   ],
   "source": [
    "numpy_array = np.array(list(data_dict.items()))"
   ]
  },
  {
   "cell_type": "code",
   "execution_count": null,
   "id": "6fa474b9",
   "metadata": {},
   "outputs": [],
   "source": [
    "numpy_array[0]"
   ]
  },
  {
   "cell_type": "code",
   "execution_count": null,
   "id": "5b3790c5",
   "metadata": {},
   "outputs": [],
   "source": [
    "numpy_array[0][0].text"
   ]
  },
  {
   "cell_type": "code",
   "execution_count": 45,
   "id": "977a5f61",
   "metadata": {},
   "outputs": [
    {
     "data": {
      "text/plain": [
       "'₹1,279'"
      ]
     },
     "execution_count": 45,
     "metadata": {},
     "output_type": "execute_result"
    }
   ],
   "source": [
    "numpy_array[0][1].text"
   ]
  },
  {
   "cell_type": "code",
   "execution_count": 56,
   "id": "5303b562",
   "metadata": {},
   "outputs": [],
   "source": [
    "driver.quit()"
   ]
  },
  {
   "cell_type": "code",
   "execution_count": null,
   "id": "a2728338",
   "metadata": {},
   "outputs": [],
   "source": []
  }
 ],
 "metadata": {
  "kernelspec": {
   "display_name": "Python 3 (ipykernel)",
   "language": "python",
   "name": "python3"
  },
  "language_info": {
   "codemirror_mode": {
    "name": "ipython",
    "version": 3
   },
   "file_extension": ".py",
   "mimetype": "text/x-python",
   "name": "python",
   "nbconvert_exporter": "python",
   "pygments_lexer": "ipython3",
   "version": "3.11.5"
  }
 },
 "nbformat": 4,
 "nbformat_minor": 5
}
